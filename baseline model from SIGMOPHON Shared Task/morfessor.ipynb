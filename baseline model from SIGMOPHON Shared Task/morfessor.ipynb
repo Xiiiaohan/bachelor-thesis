{
 "cells": [
  {
   "cell_type": "code",
   "execution_count": null,
   "id": "759d8027",
   "metadata": {},
   "outputs": [],
   "source": [
    "import re\n",
    "import morfessor\n",
    "\n",
    "# to create training data for morfessor\n",
    "\n",
    "def createTrainingData(input):\n",
    "    words = []\n",
    "\n",
    "    with open(input, \"r\", encoding=\"utf-8\") as f:\n",
    "        for line in f:\n",
    "            if line.startswith(\"\\\\t\"):\n",
    "                tokens = line[2:].strip().split()\n",
    "                words.extend(tokens)\n",
    "    return [(1.0, word) for word in words]\n"
   ]
  },
  {
   "cell_type": "code",
   "execution_count": null,
   "id": "1f08546b",
   "metadata": {},
   "outputs": [],
   "source": [
    "trainingData = createTrainingData(\"ntu-train-track1-uncovered\")  # change the input file there\n",
    "\n",
    "model = morfessor.BaselineModel()\n",
    "model.load_data(trainingData)\n",
    "model.train_batch()"
   ]
  },
  {
   "cell_type": "code",
   "execution_count": null,
   "id": "c7e652ba",
   "metadata": {},
   "outputs": [],
   "source": [
    "output_lines = []\n",
    "\n",
    "# segment each word \n",
    "\n",
    "with open(\"ntu-train-track1-uncovered\", \"r\", encoding=\"utf-8\") as f:\n",
    "    for line in f:\n",
    "        output_lines.append(line.rstrip('\\n'))\n",
    "        if line.startswith(\"\\\\t\"):\n",
    "            sentence = line[2:].strip()\n",
    "            segmented = []\n",
    "            for token in sentence.split():\n",
    "                if len(token) == 1 or token == \"...\":\n",
    "                    segmented.append(token)\n",
    "                    continue\n",
    "\n",
    "                clean = re.sub(\"[,\\\".]\", \"\", token)\n",
    "                morphs = model.viterbi_segment(clean)[0]\n",
    "                joined = \"-\".join(morphs)\n",
    "\n",
    "                if joined.endswith(\"-\"):\n",
    "                    joined = joined[:-1]\n",
    "\n",
    "                if joined.startswith(\"'\"):\n",
    "\n",
    "                    joined = \"'\" + joined[1:].lower()\n",
    "                else:\n",
    "                    joined = joined.lower()\n",
    "\n",
    "                joined = joined.replace(\"--\", \"-\")\n",
    "\n",
    "                segmented.append(joined)\n",
    "\n",
    "            output_lines.append(\"\\\\m \" + \" \".join(segmented))\n",
    "\n",
    "#store output in a file\n",
    "with open(\"output\", \"w\", encoding=\"utf-8\") as f:\n",
    "    for line in output_lines:\n",
    "        f.write(line + \"\\n\")"
   ]
  }
 ],
 "metadata": {
  "kernelspec": {
   "display_name": "Python 3",
   "language": "python",
   "name": "python3"
  },
  "language_info": {
   "name": "python",
   "version": "3.11.9"
  }
 },
 "nbformat": 4,
 "nbformat_minor": 5
}
