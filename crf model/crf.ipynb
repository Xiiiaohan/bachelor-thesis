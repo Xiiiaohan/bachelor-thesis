{
 "cells": [
  {
   "cell_type": "code",
   "execution_count": null,
   "id": "0672bc22",
   "metadata": {},
   "outputs": [],
   "source": [
    "!git clone https://github.com/shuokabe/crf_glossing.git"
   ]
  },
  {
   "cell_type": "code",
   "execution_count": null,
   "id": "c6628b36",
   "metadata": {},
   "outputs": [],
   "source": [
    "import sklearn_crfsuite\n",
    "\n",
    "import features as cgfeat\n",
    "import majority_label as ml\n",
    "import process_file as cgpf\n",
    "import utils as utils"
   ]
  },
  {
   "cell_type": "code",
   "execution_count": null,
   "id": "219f9aa8",
   "metadata": {},
   "outputs": [],
   "source": [
    "train_file = 'data/Tsez/ddo-train-track1-uncovered'\n",
    "test_file = 'data/Tsez/ddo-test-track1-covered'\n",
    "\n",
    "train = open(train_file, 'r').read()    # training data\n",
    "test = open(test_file, 'r').read()      # test data"
   ]
  },
  {
   "cell_type": "code",
   "execution_count": null,
   "id": "b281e30b",
   "metadata": {},
   "outputs": [],
   "source": [
    "mukri_train_corpus = cgpf.IGT_Corpus(train, test=False)\n",
    "mukri_test_corpus = cgpf.IGT_Corpus(test, test=True)"
   ]
  },
  {
   "cell_type": "code",
   "execution_count": null,
   "id": "863072a9",
   "metadata": {},
   "outputs": [],
   "source": [
    "# this retrieved the most frequency 10 words from the training corpus\n",
    "most_frequent_word = ml.get_most_frequent_words(mukri_train_corpus)\n",
    "my_dictionary = dict(most_frequent_word)"
   ]
  },
  {
   "cell_type": "code",
   "execution_count": null,
   "id": "813277fa",
   "metadata": {},
   "outputs": [],
   "source": [
    "# Converting the dataset into the CRF format\n",
    "## use first line if no top 10 frequent words are provided, else the second line\n",
    "\n",
    "#train_sents = mukri_train_corpus.convert_to_crf_format(stem=True)\n",
    "train_sents = mukri_train_corpus.convert_to_crf_format(custom_dict=my_dictionary)"
   ]
  },
  {
   "cell_type": "code",
   "execution_count": null,
   "id": "4a87dce8",
   "metadata": {},
   "outputs": [],
   "source": [
    "test_sents = mukri_test_corpus.convert_to_crf_format(stem=True)"
   ]
  },
  {
   "cell_type": "code",
   "execution_count": null,
   "id": "9b22644a",
   "metadata": {},
   "outputs": [],
   "source": [
    "# Prepare the data for training and testing\n",
    "\n",
    "X_train = [cgfeat.sent2features(s) for s in train_sents]\n",
    "y_train = [cgfeat.sent2labels(s) for s in train_sents]\n",
    "\n",
    "X_test = [cgfeat.sent2features(s) for s in test_sents]"
   ]
  },
  {
   "cell_type": "code",
   "execution_count": null,
   "id": "e3bc6567",
   "metadata": {},
   "outputs": [],
   "source": [
    "# Training the CRF model (default hyperparameters) - from CRF suite\n",
    "crf = sklearn_crfsuite.CRF(\n",
    "    algorithm='lbfgs',\n",
    "    c1=0.1,\n",
    "    c2=0.1,\n",
    "    max_iterations=100,\n",
    "    all_possible_transitions=True,\n",
    "    verbose=True\n",
    ")\n",
    "\n",
    "crf.fit(X_train, y_train)"
   ]
  },
  {
   "cell_type": "code",
   "execution_count": null,
   "id": "87bf9603",
   "metadata": {},
   "outputs": [],
   "source": [
    "# prediction for grammatical glosses\n",
    "y_pred = crf.predict(X_test)"
   ]
  },
  {
   "cell_type": "code",
   "execution_count": null,
   "id": "9ff129b5",
   "metadata": {},
   "outputs": [],
   "source": [
    "# Predicting the lexical glosses\n",
    "majority_dictionary = ml.create_majority_dict(mukri_train_corpus)\n",
    "\n",
    "y_pred = ml.apply_majority_label(y_pred, majority_dictionary, mukri_test_corpus)"
   ]
  },
  {
   "cell_type": "code",
   "execution_count": null,
   "id": "a9e8e981",
   "metadata": {},
   "outputs": [],
   "source": [
    "# Use dictionary directly to predict glosses\n",
    "maj_dic = ml.create_majority_dict(mukri_train_corpus)\n",
    "\n",
    "y_pred = ml.apply_majority_label_direct(maj_dic, mukri_test_corpus)"
   ]
  },
  {
   "cell_type": "code",
   "execution_count": null,
   "id": "a106c443",
   "metadata": {},
   "outputs": [],
   "source": [
    "gloss_sent_list = cgpf.convert_to_igt_format(y_pred)"
   ]
  },
  {
   "cell_type": "code",
   "execution_count": null,
   "id": "e45669fc",
   "metadata": {},
   "outputs": [],
   "source": [
    "# Saving the predictions in a text file\n",
    "## Change file path here\n",
    "output_path = 'prediction.txt'\n",
    "\n",
    "with open(output_path, 'w', encoding='utf-8') as file:\n",
    "    for gloss_sentence in gloss_sent_list:\n",
    "        file.write('\\\\t' + '\\n')\n",
    "        file.write('\\\\m' + '\\n')\n",
    "        file.write('\\\\g ' + gloss_sentence + '\\n')\n",
    "        file.write('\\\\l' + '\\n')\n",
    "        file.write('\\n')"
   ]
  }
 ],
 "metadata": {
  "language_info": {
   "name": "python"
  }
 },
 "nbformat": 4,
 "nbformat_minor": 5
}
